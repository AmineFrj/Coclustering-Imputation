{
 "cells": [
  {
   "cell_type": "code",
   "execution_count": 25,
   "metadata": {},
   "outputs": [],
   "source": [
    "from scipy.io import loadmat\n",
    "import os\n",
    "import scipy.sparse as sp"
   ]
  },
  {
   "cell_type": "code",
   "execution_count": 23,
   "metadata": {},
   "outputs": [],
   "source": [
    "## CSTR\n",
    "file_name = \"datasets/cstr.mat\"\n",
    "cstr = loadmat(file_name)\n",
    "\n",
    "## WebKB4\n",
    "## WebACE\n",
    "file_name = \"datasets/WebACE.mat\"\n",
    "WebACE = loadmat(file_name)\n",
    "\n",
    "## NG10\n",
    "## NG20\n",
    "file_name = \"datasets/NG20.mat\"\n",
    "NG20 = loadmat(file_name)\n",
    "\n",
    "## RCV1\n",
    "file_name = \"datasets/RCV1_ori.mat\"\n",
    "RCV1 = loadmat(file_name)\n",
    "\n",
    "## Reviews\n",
    "file_name = \"datasets/reviews.mat\"\n",
    "reviews = loadmat(file_name)\n",
    "\n",
    "## Sports\n",
    "file_name = \"datasets/sports.mat\"\n",
    "sports = loadmat(file_name)\n",
    "\n",
    "## Classic3\n",
    "file_name = \"datasets/classic3.mat\"\n",
    "classic3 = loadmat(file_name)\n",
    "\n",
    "## Classic4\n",
    "file_path = os.path.join('datasets', \"classic4.txt\")\n",
    "nb_row = 7095\n",
    "nb_col = 5896\n",
    "classic4 = sp.lil_matrix((nb_row, nb_col))\n",
    "\n"
   ]
  },
  {
   "cell_type": "code",
   "execution_count": 24,
   "metadata": {},
   "outputs": [
    {
     "data": {
      "text/plain": [
       "<7095x5896 sparse matrix of type '<class 'numpy.float64'>'\n",
       "\twith 0 stored elements in List of Lists format>"
      ]
     },
     "execution_count": 24,
     "metadata": {},
     "output_type": "execute_result"
    }
   ],
   "source": [
    "X"
   ]
  },
  {
   "cell_type": "code",
   "execution_count": 15,
   "metadata": {},
   "outputs": [
    {
     "data": {
      "text/plain": [
       "<3891x4303 sparse matrix of type '<class 'numpy.float64'>'\n",
       "\twith 176347 stored elements in Compressed Sparse Column format>"
      ]
     },
     "execution_count": 15,
     "metadata": {},
     "output_type": "execute_result"
    }
   ],
   "source": [
    "matlab_dict['A']"
   ]
  },
  {
   "cell_type": "code",
   "execution_count": null,
   "metadata": {},
   "outputs": [],
   "source": []
  }
 ],
 "metadata": {
  "kernelspec": {
   "display_name": "Python 3",
   "language": "python",
   "name": "python3"
  },
  "language_info": {
   "codemirror_mode": {
    "name": "ipython",
    "version": 3
   },
   "file_extension": ".py",
   "mimetype": "text/x-python",
   "name": "python",
   "nbconvert_exporter": "python",
   "pygments_lexer": "ipython3",
   "version": "3.7.4"
  }
 },
 "nbformat": 4,
 "nbformat_minor": 2
}
