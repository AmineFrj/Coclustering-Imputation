{
 "cells": [
  {
   "cell_type": "code",
   "execution_count": 1,
   "metadata": {},
   "outputs": [],
   "source": [
    "from scipy.io import loadmat\n",
    "from matplotlib.pyplot import * \n",
    "import matplotlib.pyplot as plt\n",
    "\n",
    "import os\n",
    "import scipy.sparse as sp\n",
    "import numpy as np\n",
    "import pandas as pd\n",
    "\n",
    "from sklearn.decomposition import PCA\n",
    "\n",
    "from coclust.io.data_loading import load_doc_term_data\n",
    "from coclust.visualization import (plot_reorganized_matrix,\n",
    "                                  plot_cluster_top_terms,\n",
    "                                  plot_max_modularities)\n",
    "\n",
    "from coclust.evaluation.internal import best_modularity_partition\n",
    "from coclust.coclustering import CoclustMod\n",
    "from coclust.coclustering import CoclustInfo"
   ]
  },
  {
   "cell_type": "code",
   "execution_count": 10,
   "metadata": {},
   "outputs": [],
   "source": [
    "pca_orig = PCA(n_components=2).fit_transform(WebACE['fea'])\n",
    "pca_miss = PCA(n_components=2).fit_transform(coclustInfoImput.X.toarray())"
   ]
  },
  {
   "cell_type": "code",
   "execution_count": 7,
   "metadata": {},
   "outputs": [],
   "source": [
    "from sklearn.manifold import MDS\n",
    "mds_orig = MDS(n_components=2).fit_transform(WebACE['fea'])\n",
    "mds_miss = MDS(n_components=2).fit_transform(coclustInfoImput.X.toarray())"
   ]
  },
  {
   "cell_type": "code",
   "execution_count": null,
   "metadata": {},
   "outputs": [],
   "source": [
    "from sklearn.manifold import TSNE\n",
    "tsne_orig = TSNE(n_components=2).fit_transform(WebACE['fea'])\n",
    "tsne_coclust = TSNE(n_components=2).fit_transform(coclustInfoImput.X.toarray())\n",
    "tsne_miss = TSNE(n_components=2).fit_transform(missX.values)"
   ]
  },
  {
   "cell_type": "code",
   "execution_count": null,
   "metadata": {},
   "outputs": [],
   "source": [
    "from matplotlib import pyplot as plt\n",
    "\n",
    "figure(num=None, figsize=(14, 8), dpi=80, facecolor='w', edgecolor='k')\n",
    "color = WebACE['gnd'][:,0]\n",
    "## \n",
    "subplot(1, 2, 1)\n",
    "scatter(mds_orig[:,0], mds_orig[:,1], c=color, cmap=plt.cm.Spectral)\n",
    "title('PCA on Original Data')\n",
    "## \n",
    "subplot(1, 2, 2)\n",
    "scatter(mds_miss[:,0], mds_miss[:,1], c=color, cmap=plt.cm.Spectral)\n",
    "title('PCA on MissMDA')"
   ]
  },
  {
   "cell_type": "code",
   "execution_count": null,
   "metadata": {},
   "outputs": [],
   "source": [
    "from matplotlib import pyplot as plt\n",
    "\n",
    "figure(num=None, figsize=(14, 6), dpi=80, facecolor='w', edgecolor='k')\n",
    "color = WebACE['gnd'][:,0]\n",
    "## \n",
    "subplot(1, 3, 1)\n",
    "scatter(tsne_orig[:,0], tsne_orig[:,1], c=color, cmap=plt.cm.Spectral)\n",
    "title('T-SNE on Original Data')\n",
    "## \n",
    "subplot(1, 3, 2)\n",
    "scatter(tsne_coclust[:,0], tsne_coclust[:,1], c=color, cmap=plt.cm.Spectral)\n",
    "title('T-SNE on Coclust result')\n",
    "\n",
    "## \n",
    "subplot(1, 3, 3)\n",
    "scatter(tsne_miss[:,0], tsne_miss[:,1], c=color, cmap=plt.cm.Spectral)\n",
    "title('T-SNE on MissMDA')"
   ]
  },
  {
   "cell_type": "code",
   "execution_count": null,
   "metadata": {},
   "outputs": [],
   "source": [
    "from matplotlib import pyplot as plt\n",
    "\n",
    "figure(num=None, figsize=(14, 8), dpi=80, facecolor='w', edgecolor='k')\n",
    "color = WebACE['gnd'][:,0]\n",
    "## \n",
    "subplot(1, 2, 1)\n",
    "scatter(pca_orig[:,0], pca_orig[:,1], c=color, cmap=plt.cm.Spectral)\n",
    "title('PCA on Original Data')\n",
    "## \n",
    "subplot(1, 2, 2)\n",
    "scatter(pca_miss[:,0], pca_miss[:,1], c=color, cmap=plt.cm.Spectral)\n",
    "title('PCA on MissMDA')"
   ]
  },
  {
   "cell_type": "code",
   "execution_count": null,
   "metadata": {},
   "outputs": [],
   "source": [
    "'''\n",
    "Manual A calculation\n",
    "A = np.zeros((20,20))\n",
    "for i in range(coMod_model.Z.shape[1]):\n",
    "    Z_ind = np.where(coMod_model.Z[:,i] == 1)\n",
    "    for j in range(coMod_model.W.shape[1]):\n",
    "        W_ind = np.where(coMod_model.W[:,j] == 1)\n",
    "        cmp = 0\n",
    "        n = 0\n",
    "        for ii in Z_ind[0]:\n",
    "            for jj in W_ind[0]:\n",
    "                cmp += missX2.values[ii,jj]\n",
    "                n += 1\n",
    "        if n==0:\n",
    "            A[i,j] = 0\n",
    "        else:\n",
    "            A[i,j] = cmp/n\n",
    "'''"
   ]
  },
  {
   "cell_type": "code",
   "execution_count": null,
   "metadata": {},
   "outputs": [],
   "source": []
  },
  {
   "cell_type": "code",
   "execution_count": null,
   "metadata": {},
   "outputs": [],
   "source": []
  },
  {
   "cell_type": "code",
   "execution_count": null,
   "metadata": {},
   "outputs": [],
   "source": []
  },
  {
   "cell_type": "code",
   "execution_count": null,
   "metadata": {},
   "outputs": [],
   "source": []
  },
  {
   "cell_type": "code",
   "execution_count": null,
   "metadata": {},
   "outputs": [],
   "source": []
  },
  {
   "cell_type": "code",
   "execution_count": null,
   "metadata": {},
   "outputs": [],
   "source": []
  }
 ],
 "metadata": {
  "kernelspec": {
   "display_name": "Python 3",
   "language": "python",
   "name": "python3"
  },
  "language_info": {
   "codemirror_mode": {
    "name": "ipython",
    "version": 3
   },
   "file_extension": ".py",
   "mimetype": "text/x-python",
   "name": "python",
   "nbconvert_exporter": "python",
   "pygments_lexer": "ipython3",
   "version": "3.7.4"
  }
 },
 "nbformat": 4,
 "nbformat_minor": 2
}
